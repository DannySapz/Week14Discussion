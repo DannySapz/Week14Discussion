{
 "cells": [
  {
   "cell_type": "code",
   "execution_count": null,
   "metadata": {
    "collapsed": true
   },
   "outputs": [],
   "source": [
    "#Week 14 Discussion\n",
    "\n",
    "#Your task is to analyze an existing recommender system that you find interesting.  You should:\n",
    "\n",
    "#1. Perform a Scenario Design analysis as described below.  \n",
    "#Consider whether it makes sense for your selected recommender system to perform scenario design twice,\n",
    "#once for the organization (e.g. Amazon.com) and once for the organization's customers.\n",
    "\n",
    "#2. Attempt to reverse engineer what you can about the site, \n",
    "#from the site interface and any available information that you can find on the Internet or elsewhere.\n",
    "\n",
    "#3. Include specific recommendations about how to improve the site's recommendation capabilities going forward. \n",
    "\n",
    "#4. Create your report using a Jupyter notebook, and create a discussion thread with a link to the \n",
    "#GitHub repo where your Jupyter Notebook resides.  You are not expected to need to write code for this discussion assignment."
   ]
  },
  {
   "cell_type": "code",
   "execution_count": null,
   "metadata": {
    "collapsed": true
   },
   "outputs": [],
   "source": [
    "# Pandora is a music recommender system\n",
    "\n",
    "#1. Scenario Design Analysis\n",
    "#A. Who are your target users?\n",
    "\n",
    "#The target users for Pandora are people who want music catered to their tastes\n",
    "\n",
    "#B. What are their key goals?\n",
    "\n",
    "#Their key goal is to discover free, new music that matches their tastes\n",
    "\n",
    "#C. How can you help them accomplish thise goals?\n",
    "\n",
    "#Pandora can help them accomplish their goals by finding similar songs to the ones they already like"
   ]
  },
  {
   "cell_type": "code",
   "execution_count": null,
   "metadata": {
    "collapsed": true
   },
   "outputs": [],
   "source": [
    "# I don't think it makes sense to do a Scenario Design twice, once for the organization and then once more for the customers."
   ]
  },
  {
   "cell_type": "code",
   "execution_count": null,
   "metadata": {
    "collapsed": true
   },
   "outputs": [],
   "source": [
    "#2. Attempt to reverse engineer what you can about the site, \n",
    "\n",
    "#According to http://computer.howstuffworks.com/internet/basics/pandora.htm\n",
    "#Pandora analyzes the musical structures present in the songs users like, \n",
    "#and then it plays other songs that possess similar musical traits by process of the Music Genome Project\n",
    "\n",
    "#As the article states, \"Pandora relies on a Music Genome that consists of 400 musical attributes covering \n",
    "#the qualities of melody, harmony, rhythm, form, composition and lyrics. \n",
    "#It's a project that began in January 2000 and took 30 experts in music theory five years to complete. \n",
    "#The Genome is based on an intricate analysis by actual humans (about 20 to 30 minutes per four-minute song) of the music \n",
    "#of 10,000 artists from the past 100 years.\"\n",
    "\n",
    "#This process is still continuing today and the databse has over hundreds of thousands of songs.\n"
   ]
  },
  {
   "cell_type": "code",
   "execution_count": null,
   "metadata": {
    "collapsed": true
   },
   "outputs": [],
   "source": [
    "#3. Include specific recommendations about how to improve the site's recommendation capabilities going forward.\n",
    "\n",
    "#From users such as myself and a friend of mine who is a huge music buff, Pandora is our least favorite application.\n",
    "#The reason being, it's boring and most of the songs played are not what we are really looking for.\n",
    "#Yes, it's very cool that we can construct playlists that have songs similar to other songs we like\n",
    "#But part of the music experience is to find songs that are completely different from our tastes that we still resonate with.\n",
    "#We want variety and entertainment, not 20 version of basically the same song.\n",
    "#So my recommendation for Pandora is to somehow find a way to link songs with not songs that have similar musical attributes,\n",
    "#but a certain percentage of them, so we can still discover new music that may pertain to users tastes."
   ]
  },
  {
   "cell_type": "code",
   "execution_count": null,
   "metadata": {
    "collapsed": true
   },
   "outputs": [],
   "source": []
  },
  {
   "cell_type": "code",
   "execution_count": null,
   "metadata": {
    "collapsed": true
   },
   "outputs": [],
   "source": []
  }
 ],
 "metadata": {
  "kernelspec": {
   "display_name": "Python [Root]",
   "language": "python",
   "name": "Python [Root]"
  },
  "language_info": {
   "codemirror_mode": {
    "name": "ipython",
    "version": 2
   },
   "file_extension": ".py",
   "mimetype": "text/x-python",
   "name": "python",
   "nbconvert_exporter": "python",
   "pygments_lexer": "ipython2",
   "version": "2.7.12"
  }
 },
 "nbformat": 4,
 "nbformat_minor": 0
}
